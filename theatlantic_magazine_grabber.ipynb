{
 "cells": [
  {
   "cell_type": "code",
   "execution_count": 4,
   "id": "7978e767-729a-4b59-b36e-67ea05b46418",
   "metadata": {},
   "outputs": [],
   "source": [
    "from datetime import datetime, timedelta\n",
    "\n",
    "# Generate the list of URLs\n",
    "base_url = \"https://cdn.theatlantic.com/media/magazine/pdfs/\"\n",
    "# years = range(2020, 2025) # Adjust the range\n",
    "if False:\n",
    "    years = range(2005, 2006)\n",
    "    months = range(9, 13)\n",
    "else:\n",
    "    years = range(2006, 2020)\n",
    "    months = range(1, 13)\n",
    "\n",
    "urls = [f\"{base_url}{year}{month:02d}.pdf\" for year in years for month in months]\n"
   ]
  },
  {
   "cell_type": "code",
   "execution_count": null,
   "id": "da718b27-0eff-448a-9e98-e09bff0d5377",
   "metadata": {},
   "outputs": [
    {
     "name": "stdout",
     "output_type": "stream",
     "text": [
      "Downloaded: theatlantic/200601.pdf\n",
      "Failed: https://cdn.theatlantic.com/media/magazine/pdfs/200602.pdf\n"
     ]
    }
   ],
   "source": [
    "import requests\n",
    "import os\n",
    "from time import sleep\n",
    "\n",
    "# Folder to store PDFs\n",
    "output_folder = \"theatlantic\"\n",
    "os.makedirs(output_folder, exist_ok=True)\n",
    "\n",
    "# Download each PDF\n",
    "for url in urls:\n",
    "    filename = os.path.join(output_folder, url.split(\"/\")[-1])\n",
    "    \n",
    "    response = requests.get(url, stream=True)\n",
    "    \n",
    "    if response.status_code == 200:\n",
    "        with open(filename, \"wb\") as f:\n",
    "            for chunk in response.iter_content(chunk_size=1024):\n",
    "                f.write(chunk)\n",
    "        print(f\"Downloaded: {filename}\")\n",
    "    else:\n",
    "        print(f\"Failed: {url}\")\n",
    "\n",
    "    sleep(1)\n"
   ]
  }
 ],
 "metadata": {
  "kernelspec": {
   "display_name": "Python 3 (ipykernel)",
   "language": "python",
   "name": "python3"
  },
  "language_info": {
   "codemirror_mode": {
    "name": "ipython",
    "version": 3
   },
   "file_extension": ".py",
   "mimetype": "text/x-python",
   "name": "python",
   "nbconvert_exporter": "python",
   "pygments_lexer": "ipython3",
   "version": "3.11.5"
  }
 },
 "nbformat": 4,
 "nbformat_minor": 5
}
